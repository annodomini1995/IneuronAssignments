{
 "cells": [
  {
   "cell_type": "markdown",
   "metadata": {},
   "source": [
    "# Task 1:"
   ]
  },
  {
   "cell_type": "markdown",
   "metadata": {},
   "source": [
    "Problem 1.1 Write a Python Program to implement your own myreduce() function which works exactly like\n",
    "Python's built-in function reduce()"
   ]
  },
  {
   "cell_type": "code",
   "execution_count": 4,
   "metadata": {},
   "outputs": [
    {
     "name": "stdout",
     "output_type": "stream",
     "text": [
      "Sum of iterable values: 266\n"
     ]
    }
   ],
   "source": [
    "ls = [45,55,68,98]\n",
    "\n",
    "def func(a,b):\n",
    "    return a+b\n",
    "\n",
    "def myreduce(function,iterable):\n",
    "    sum = 0\n",
    "    for i in range(0,len(iterable)-1,2):\n",
    "        sum = sum + function(iterable[i],iterable[i+1])\n",
    "    return sum\n",
    "\n",
    "print(\"Sum of iterable values: \" + str(myreduce(func,ls)))\n",
    "\n"
   ]
  },
  {
   "cell_type": "markdown",
   "metadata": {},
   "source": [
    "Problem 1.2 Write a Python program to implement your own myfilter() function which works exactly like\n",
    "Python's built-in function filter()"
   ]
  },
  {
   "cell_type": "code",
   "execution_count": 7,
   "metadata": {},
   "outputs": [
    {
     "name": "stdout",
     "output_type": "stream",
     "text": [
      "(2, 4)\n"
     ]
    }
   ],
   "source": [
    "def func(x):\n",
    "    if x%2==0:\n",
    "        return True\n",
    "    else:\n",
    "        return False\n",
    "\n",
    "def myfilter(function,sequence):\n",
    "    empty = []\n",
    "    for i in sequence:\n",
    "        if(function(i)):\n",
    "            empty.append(i)\n",
    "        else:\n",
    "            pass\n",
    "    return empty\n",
    "\n",
    "ls = (1,2,3,4,5)\n",
    "result = myfilter(func,ls)\n",
    "print(type(ls)(result))"
   ]
  },
  {
   "cell_type": "markdown",
   "metadata": {},
   "source": [
    "Problem 2. <br>\n",
    "Implement List comprehensions to produce the following lists.\n",
    "Write List comprehensions to produce the following Lists<br>\n",
    "['A', 'C', 'A', 'D', 'G', 'I', ’L’, ‘ D’]<br>\n",
    "['x', 'xx', 'xxx', 'xxxx', 'y', 'yy', 'yyy', 'yyyy', 'z', 'zz', 'zzz', 'zzzz']<br>\n",
    "['x', 'y', 'z', 'xx', 'yy', 'zz', 'xx', 'yy', 'zz', 'xxxx', 'yyyy', 'zzzz']<br>\n",
    "[[2], [3], [4], [3], [4], [5], [4], [5], [6]]<br>\n",
    "[[2, 3, 4, 5], [3, 4, 5, 6], [4, 5, 6, 7], [5, 6, 7, 8]]<br>\n",
    "[(1, 1), (2, 1), (3, 1), (1, 2), (2, 2), (3, 2), (1, 3), (2, 3), (3, 3)]<br>"
   ]
  },
  {
   "cell_type": "code",
   "execution_count": 24,
   "metadata": {},
   "outputs": [
    {
     "name": "stdout",
     "output_type": "stream",
     "text": [
      "['x', 'xx', 'xxx', 'xxxx', 'y', 'yy', 'yyy', 'yyyy', 'z', 'zz', 'zzz', 'zzzz']\n",
      "['x', 'y', 'z', 'xx', 'yy', 'zz', 'xxx', 'yyy', 'zzz', 'xxxx', 'yyyy', 'zzzz']\n",
      "[[2], [3], [4], [3], [4], [5], [4], [5], [6]]\n",
      "[[2, 3, 4, 5], [3, 4, 5, 6], [4, 5, 6, 7], [5, 6, 7, 8]]\n",
      "[(1, 1), (2, 1), (3, 1), (1, 2), (2, 2), (3, 2), (1, 3), (2, 3), (3, 3)]\n"
     ]
    }
   ],
   "source": [
    "print([i*time for i in ('x','y','z') for time in range(1,5)])\n",
    "print([item * runpass for runpass in range(1,5) for item in ('x','y','z')])\n",
    "print([[item +loop] for item in [2,3,4,5,6][:3] for loop in range(0,3)])\n",
    "print([list([item,item+1,item+2,item+3]) for item in [2,3,4,5]])\n",
    "print([(j,i) for i in (1,2,3) for j in range(1,4)])"
   ]
  },
  {
   "cell_type": "markdown",
   "metadata": {},
   "source": [
    "Problem 3. Implement a function longestWord() that takes a list of words and returns the longest one.\n"
   ]
  },
  {
   "cell_type": "code",
   "execution_count": 25,
   "metadata": {},
   "outputs": [
    {
     "name": "stdout",
     "output_type": "stream",
     "text": [
      "Himachal Pradesh\n"
     ]
    }
   ],
   "source": [
    "def longestWord(words):\n",
    "    words.sort(key=lambda x: len(x))\n",
    "    return words[-1]\n",
    "\n",
    "print(longestWord(['Himachal Pradesh','Delhi','Srinagar','Manali']))"
   ]
  },
  {
   "cell_type": "markdown",
   "metadata": {},
   "source": [
    "# Task 2:"
   ]
  },
  {
   "cell_type": "markdown",
   "metadata": {},
   "source": [
    "Problem 1.1 <br>\n",
    "\n",
    "Write a Python Program(with class concepts) to find the area of the triangle using the below\n",
    "formula.<br>\n",
    "<pre>area = (s*(s-a)*(s-b)*(s-c)) ** 0.5<br></pre>\n",
    "Function to take the length of the sides of triangle from user should be defined in the parent<br>\n",
    "class and function to calculate the area should be defined in subclass.<br>"
   ]
  },
  {
   "cell_type": "code",
   "execution_count": 28,
   "metadata": {},
   "outputs": [
    {
     "name": "stdout",
     "output_type": "stream",
     "text": [
      "Enter 1st side :10\n",
      "Enter 2nd side :10\n",
      "Enter 3rd side :5\n",
      "Rea of triangle is: 24.206145913796355\n"
     ]
    }
   ],
   "source": [
    "import math\n",
    "\n",
    "class Parent:\n",
    "\n",
    "    def __init__(self):\n",
    "        pass\n",
    "\n",
    "    def TakeSide(self):\n",
    "        self.side_a = int(input(\"Enter 1st side :\"))\n",
    "        self.side_b = int(input(\"Enter 2nd side :\"))\n",
    "        self.side_c = int(input(\"Enter 3rd side :\"))\n",
    "\n",
    "\n",
    "\n",
    "class Child(Parent):\n",
    "\n",
    "    def __init__(self):\n",
    "        pass\n",
    "\n",
    "    def calculateArea(self):\n",
    "        self.semi_perimeter= float((self.side_a+self.side_b+self.side_c)/2)\n",
    "        self.area = math.sqrt(float(self.semi_perimeter*(self.semi_perimeter-self.side_a)*\n",
    "                              (self.semi_perimeter-self.side_b)*(self.semi_perimeter-self.side_c)))\n",
    "\n",
    "        return str(self.area)\n",
    "\n",
    "newchild = Child()\n",
    "newchild.TakeSide()\n",
    "print(\"Rea of triangle is: \"+newchild.calculateArea())\n",
    "\n",
    "\n"
   ]
  },
  {
   "cell_type": "markdown",
   "metadata": {},
   "source": [
    "Problem 1.2 Write a function filter_long_words() that takes a list of words and an integer n and returns the list\n",
    "of words that are longer than n."
   ]
  },
  {
   "cell_type": "code",
   "execution_count": 29,
   "metadata": {},
   "outputs": [
    {
     "name": "stdout",
     "output_type": "stream",
     "text": [
      "['Kolkata', 'Bangalore', 'Chennai']\n"
     ]
    }
   ],
   "source": [
    "def filter_long_words(ls, length):\n",
    "    longer = [word for word in ls if len(word) > length]\n",
    "    return longer\n",
    "\n",
    "\n",
    "print(filter_long_words(['Delhi','Kolkata','Bangalore','Chennai'],5))"
   ]
  },
  {
   "cell_type": "markdown",
   "metadata": {},
   "source": [
    "Problem 2.1 <br>\n",
    "Write a Python program using function concept that maps list of words into a list of integers<br>\n",
    "representing the lengths of the corresponding words.<br>\n",
    "Hint: If a list [ ab,cde,erty] is passed on to the python function output should come as [2,3,4]<br>\n",
    "Here 2,3 and 4 are the lengths of the words in the list."
   ]
  },
  {
   "cell_type": "code",
   "execution_count": 31,
   "metadata": {},
   "outputs": [
    {
     "name": "stdout",
     "output_type": "stream",
     "text": [
      "[3, 4]\n"
     ]
    }
   ],
   "source": [
    "def convert_to_length(ls):\n",
    "    new_list = [len(val) for val in ls]\n",
    "    return new_list\n",
    "\n",
    "print(convert_to_length(['abc','jklm']))"
   ]
  },
  {
   "cell_type": "markdown",
   "metadata": {},
   "source": [
    "Problem 2.2 \n",
    "Write a Python function which takes a character (i.e. a string of length 1) and returns True if it is\n",
    "a vowel, False otherwise."
   ]
  },
  {
   "cell_type": "code",
   "execution_count": 33,
   "metadata": {},
   "outputs": [
    {
     "name": "stdout",
     "output_type": "stream",
     "text": [
      "Enter a character:a\n",
      "True\n"
     ]
    }
   ],
   "source": [
    "def myfunction(char):\n",
    "    vowels = {'a','e','i','o','u','A','E','I','O','U'}\n",
    "    if char in vowels:\n",
    "        return True\n",
    "    else:\n",
    "        return False\n",
    "\n",
    "print(myfunction(input('Enter a character:')))\n"
   ]
  },
  {
   "cell_type": "code",
   "execution_count": null,
   "metadata": {},
   "outputs": [],
   "source": []
  }
 ],
 "metadata": {
  "kernelspec": {
   "display_name": "Python 3",
   "language": "python",
   "name": "python3"
  },
  "language_info": {
   "codemirror_mode": {
    "name": "ipython",
    "version": 3
   },
   "file_extension": ".py",
   "mimetype": "text/x-python",
   "name": "python",
   "nbconvert_exporter": "python",
   "pygments_lexer": "ipython3",
   "version": "3.7.4"
  }
 },
 "nbformat": 4,
 "nbformat_minor": 2
}
